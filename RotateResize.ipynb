{
  "nbformat": 4,
  "nbformat_minor": 0,
  "metadata": {
    "colab": {
      "provenance": [],
      "authorship_tag": "ABX9TyP18S7SpOYYWytNi9yUZb+X",
      "include_colab_link": true
    },
    "kernelspec": {
      "name": "python3",
      "display_name": "Python 3"
    },
    "language_info": {
      "name": "python"
    }
  },
  "cells": [
    {
      "cell_type": "markdown",
      "metadata": {
        "id": "view-in-github",
        "colab_type": "text"
      },
      "source": [
        "<a href=\"https://colab.research.google.com/github/Pratyushk2003/resize-photo-from-landform-to-potrait/blob/main/RotateResize.ipynb\" target=\"_parent\"><img src=\"https://colab.research.google.com/assets/colab-badge.svg\" alt=\"Open In Colab\"/></a>"
      ]
    },
    {
      "cell_type": "code",
      "source": [
        "from copy import deepcopy"
      ],
      "metadata": {
        "id": "kCgN9toswAYe"
      },
      "execution_count": 6,
      "outputs": []
    },
    {
      "cell_type": "code",
      "execution_count": 54,
      "metadata": {
        "colab": {
          "base_uri": "https://localhost:8080/"
        },
        "id": "CIv25kr1v8cp",
        "outputId": "58b36e74-a531-4f0f-9f0b-3684cfe876f0"
      },
      "outputs": [
        {
          "output_type": "stream",
          "name": "stdout",
          "text": [
            "{'width': 1080, 'height': 1080, 'fonts': [], 'pages': [{'id': 'WIw0uPslYy', 'children': [{'id': 'DHR1fOEx7F', 'type': 'svg', 'name': '', 'opacity': 1, 'visible': True, 'selectable': True, 'removable': True, 'alwaysOnTop': False, 'showInExport': True, 'x': -32.09845131860976, 'y': 3.1833964978659067e-15, 'width': 1144.1969026372205, 'height': 535.7090977591724, 'rotation': 0, 'animations': [], 'blurEnabled': False, 'blurRadius': 10, 'brightnessEnabled': False, 'brightness': 0, 'sepiaEnabled': False, 'grayscaleEnabled': False, 'shadowEnabled': False, 'shadowBlur': 5, 'shadowOffsetX': 0, 'shadowOffsetY': 0, 'shadowColor': 'black', 'shadowOpacity': 1, 'draggable': True, 'resizable': True, 'contentEditable': True, 'styleEditable': True, 'src': 'data:image/svg+xml;base64,PHN2ZyB4bWxucz0iaHR0cDovL3d3dy53My5vcmcvMjAwMC9zdmciIHZpZXdCb3g9IjAgMCA2MCA2MCI+PHJlY3QgeD0iMCIgeT0iMCIgd2lkdGg9IjYwIiBoZWlnaHQ9IjYwIiBmaWxsPSJyZ2IoMCwgMTYxLCAyNTUpIiAvPjwvc3ZnPg==', 'maskSrc': '', 'cropX': 0, 'cropY': 0, 'cropWidth': 1, 'cropHeight': 1, 'keepRatio': False, 'flipX': False, 'flipY': False, 'borderColor': 'black', 'borderSize': 0, 'cornerRadius': 0, 'colorsReplace': {'rgb(0, 161, 255)': 'rgba(245,190,102,1)'}}, {'id': 'yzp5iCe7P0', 'type': 'svg', 'name': '', 'opacity': 1, 'visible': True, 'selectable': True, 'removable': True, 'alwaysOnTop': False, 'showInExport': True, 'x': 92.60805777115212, 'y': 440.04878048780495, 'width': 769.0243902438998, 'height': 534.5853658536579, 'rotation': 0, 'animations': [], 'blurEnabled': False, 'blurRadius': 10, 'brightnessEnabled': False, 'brightness': 0, 'sepiaEnabled': False, 'grayscaleEnabled': False, 'shadowEnabled': False, 'shadowBlur': 5, 'shadowOffsetX': 0, 'shadowOffsetY': 0, 'shadowColor': 'black', 'shadowOpacity': 1, 'draggable': True, 'resizable': True, 'contentEditable': True, 'styleEditable': True, 'src': 'data:image/svg+xml;base64,PHN2ZyB4bWxucz0iaHR0cDovL3d3dy53My5vcmcvMjAwMC9zdmciIHZpZXdCb3g9IjAgMCA2MCA2MCI+PHJlY3QgeD0iMCIgeT0iMCIgd2lkdGg9IjYwIiBoZWlnaHQ9IjYwIiBmaWxsPSJyZ2IoMCwgMTYxLCAyNTUpIiAvPjwvc3ZnPg==', 'maskSrc': '', 'cropX': 0, 'cropY': 0, 'cropWidth': 1, 'cropHeight': 1, 'keepRatio': False, 'flipX': False, 'flipY': False, 'borderColor': 'black', 'borderSize': 0, 'cornerRadius': 0, 'colorsReplace': {'rgb(0, 161, 255)': 'rgba(216,155,59,1)'}}, {'id': 'wPViWYEyQz', 'type': 'image', 'name': '', 'opacity': 1, 'visible': True, 'selectable': True, 'removable': True, 'alwaysOnTop': False, 'showInExport': True, 'x': 197.17443376753624, 'y': 295.8291200152231, 'width': 675.0050498877171, 'height': 643.9065488951021, 'rotation': 0, 'animations': [], 'blurEnabled': False, 'blurRadius': 10, 'brightnessEnabled': False, 'brightness': 0, 'sepiaEnabled': False, 'grayscaleEnabled': False, 'shadowEnabled': False, 'shadowBlur': 5, 'shadowOffsetX': 0, 'shadowOffsetY': 0, 'shadowColor': 'black', 'shadowOpacity': 1, 'draggable': True, 'resizable': True, 'contentEditable': True, 'styleEditable': True, 'src': 'https://images.unsplash.com/photo-1600184430626-1dd6087315d8?crop=entropy&cs=tinysrgb&fit=max&fm=jpg&ixid=MnwxMTY5OTZ8MHwxfHNlYXJjaHw3fHx3YWZmbGV8ZW58MHx8fHwxNjM1NTkwMjc3&ixlib=rb-1.2.1&q=80&w=1080', 'cropX': 0, 'cropY': 0.00038834951456290234, 'cropWidth': 0.9844730328980278, 'cropHeight': 0.6564700485787871, 'cornerRadius': 0, 'flipX': False, 'flipY': False, 'clipSrc': '', 'borderColor': 'black', 'borderSize': 0, 'keepRatio': False}, {'id': '4MkzwRMNqV', 'type': 'text', 'name': '', 'opacity': 1, 'visible': True, 'selectable': True, 'removable': True, 'alwaysOnTop': False, 'showInExport': True, 'x': 39.00000000000057, 'y': 164.47893912348854, 'width': 1002, 'height': 81, 'rotation': 0, 'animations': [], 'blurEnabled': False, 'blurRadius': 10, 'brightnessEnabled': False, 'brightness': 0, 'sepiaEnabled': False, 'grayscaleEnabled': False, 'shadowEnabled': False, 'shadowBlur': 5, 'shadowOffsetX': 0, 'shadowOffsetY': 0, 'shadowColor': 'black', 'shadowOpacity': 1, 'draggable': True, 'resizable': True, 'contentEditable': True, 'styleEditable': True, 'text': \"Waiting for a waffle o'clock\", 'placeholder': '', 'fontSize': 66, 'fontFamily': 'Libre Baskerville', 'fontStyle': 'normal', 'fontWeight': 'normal', 'textDecoration': '', 'fill': 'rgba(189,130,36,1)', 'align': 'center', 'verticalAlign': 'top', 'strokeWidth': 0, 'stroke': 'black', 'lineHeight': 1.2, 'letterSpacing': 0, 'backgroundEnabled': False, 'backgroundColor': '#7ED321', 'backgroundOpacity': 1, 'backgroundCornerRadius': 0.5, 'backgroundPadding': 0.5}, {'id': 'BAgdNcgp9x', 'type': 'svg', 'name': '', 'opacity': 1, 'visible': True, 'selectable': True, 'removable': True, 'alwaysOnTop': False, 'showInExport': True, 'x': 930.1992135740174, 'y': 752.121951219512, 'width': 128, 'height': 128, 'rotation': 0, 'animations': [], 'blurEnabled': False, 'blurRadius': 10, 'brightnessEnabled': False, 'brightness': 0, 'sepiaEnabled': False, 'grayscaleEnabled': False, 'shadowEnabled': False, 'shadowBlur': 5, 'shadowOffsetX': 0, 'shadowOffsetY': 0, 'shadowColor': 'black', 'shadowOpacity': 1, 'draggable': True, 'resizable': True, 'contentEditable': True, 'styleEditable': True, 'src': 'data:image/svg+xml;base64,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', 'maskSrc': '', 'cropX': 0, 'cropY': 0, 'cropWidth': 1, 'cropHeight': 1, 'keepRatio': True, 'flipX': False, 'flipY': False, 'borderColor': 'black', 'borderSize': 0, 'cornerRadius': 0, 'colorsReplace': {'#200E32': 'rgba(255,255,255,1)'}}, {'id': 'mIYW6wl4XS', 'type': 'svg', 'name': '', 'opacity': 1, 'visible': True, 'selectable': True, 'removable': True, 'alwaysOnTop': False, 'showInExport': True, 'x': 43.72341686100141, 'y': 391.16413957765434, 'width': 97.76928182030144, 'height': 97.76928182030143, 'rotation': 0, 'animations': [], 'blurEnabled': False, 'blurRadius': 10, 'brightnessEnabled': False, 'brightness': 0, 'sepiaEnabled': False, 'grayscaleEnabled': False, 'shadowEnabled': False, 'shadowBlur': 5, 'shadowOffsetX': 0, 'shadowOffsetY': 0, 'shadowColor': 'black', 'shadowOpacity': 1, 'draggable': True, 'resizable': True, 'contentEditable': True, 'styleEditable': True, 'src': 'data:image/svg+xml;base64,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', 'maskSrc': '', 'cropX': 0, 'cropY': 0, 'cropWidth': 1, 'cropHeight': 1, 'keepRatio': True, 'flipX': False, 'flipY': False, 'borderColor': 'black', 'borderSize': 0, 'cornerRadius': 0, 'colorsReplace': {'#200E32': 'rgba(255,255,255,1)'}}, {'id': 'TG5vYuIJGo', 'type': 'image', 'name': '', 'opacity': 1, 'visible': True, 'selectable': True, 'removable': True, 'alwaysOnTop': False, 'showInExport': True, 'x': 872.1794836552532, 'y': 558.6748487179781, 'width': 593.3025509165896, 'height': 342.92668065591164, 'rotation': 140.0386540629902, 'animations': [], 'blurEnabled': False, 'blurRadius': 10, 'brightnessEnabled': False, 'brightness': 0, 'sepiaEnabled': False, 'grayscaleEnabled': False, 'shadowEnabled': False, 'shadowBlur': 5, 'shadowOffsetX': 0, 'shadowOffsetY': 0, 'shadowColor': 'black', 'shadowOpacity': 1, 'draggable': True, 'resizable': True, 'contentEditable': True, 'styleEditable': True, 'src': 'https://images.unsplash.com/photo-1703701008461-ce64767019d3?crop=entropy&cs=tinysrgb&fit=max&fm=jpg&ixid=M3wxMTY5OTZ8MHwxfGFsbHw3fHx8fHx8Mnx8MTcwNDUzMTY0OXw&ixlib=rb-4.0.3&q=80&w=1080', 'cropX': 0, 'cropY': 0, 'cropWidth': 1, 'cropHeight': 0.8669944536546985, 'cornerRadius': 0, 'flipX': False, 'flipY': False, 'clipSrc': '', 'borderColor': 'black', 'borderSize': 0, 'keepRatio': False}], 'width': 'auto', 'height': 'auto', 'background': 'rgba(245,234,187,1)', 'bleed': 0, 'duration': 5000}], 'unit': 'px', 'dpi': 72}\n"
          ]
        }
      ],
      "source": [
        "import json\n",
        "\n",
        "json_file_path = '/content/polotno - 2024-01-12T125913.339.json'\n",
        "\n",
        "with open(json_file_path, 'r') as file:\n",
        "    creative_json = json.load(file)\n",
        "print(creative_json)"
      ]
    },
    {
      "cell_type": "code",
      "source": [
        "import numpy as np"
      ],
      "metadata": {
        "id": "4j7N3v9CyD6l"
      },
      "execution_count": 55,
      "outputs": []
    },
    {
      "cell_type": "code",
      "source": [
        "def get_new_dim(rot, w, h):\n",
        "    rad = np.deg2rad(rot)\n",
        "    new_w = np.abs(w * np.cos(rad)) + np.abs(h * np.sin(rad))\n",
        "    new_h = np.abs(h * np.cos(rad)) + np.abs(w * np.sin(rad))\n",
        "    return new_w, new_h\n",
        "\n",
        "def get_outer_bbox(layer):\n",
        "    orig_coord = get_final_coordinates(layer)\n",
        "    new_dim = get_new_dim(layer[\"rotation\"], layer[\"width\"], layer[\"height\"])\n",
        "    x_o, y_o = orig_coord\n",
        "    x_c, y_c = x_o + layer[\"width\"]/2, y_o + layer[\"height\"]/2\n",
        "    x_outer, y_outer = x_c - new_dim[0]/2, y_c - new_dim[1]/2\n",
        "    return x_outer, y_outer, new_dim[0], new_dim[1]\n",
        "\n",
        "def find_diag_len(w, h):\n",
        "    diag = np.sqrt(w ** 2 + h ** 2)\n",
        "    return diag\n",
        "\n",
        "\n",
        "def get_given_coords_in_standard_sys(rotation, radius, offset_angle):\n",
        "    rot_rad = np.deg2rad(rotation + offset_angle)\n",
        "    new_x = (radius * np.sin(rot_rad))\n",
        "    new_y = (radius * np.cos(rot_rad))\n",
        "\n",
        "    return new_x, new_y\n",
        "\n",
        "\n",
        "def calculate_delta(x, y, ref_x, ref_y):\n",
        "    delta_x = x - ref_x\n",
        "    delta_y = y - (ref_y * -1.0)  # invert the system\n",
        "\n",
        "    return delta_x, delta_y\n",
        "\n",
        "\n",
        "def get_final_coordinates(layer, need_extra=False):\n",
        "    w = layer[\"width\"]\n",
        "    h = layer[\"height\"]\n",
        "    rotation_deg = layer[\"rotation\"]\n",
        "    x = layer[\"x\"]\n",
        "    y = layer[\"y\"]\n",
        "    radius = find_diag_len(w, h) / 2\n",
        "    offset_angle = -1.0 * np.rad2deg(np.arcsin((w / 2) / radius))\n",
        "    ref_x, ref_y = get_given_coords_in_standard_sys(rotation_deg, radius, offset_angle)\n",
        "    delta_x, delta_y = calculate_delta(x, y, ref_x, ref_y)\n",
        "    new_x, new_y = get_given_coords_in_standard_sys(offset_angle, radius, 0)\n",
        "    final_x = new_x + delta_x\n",
        "    final_y = -1.0 * new_y + delta_y  # invert the co-ordinate system\n",
        "    if need_extra:\n",
        "        return final_x, final_y, {\"offset_angle\": offset_angle, \"radius\": radius}\n",
        "    return int(np.ceil(final_x)), int(np.ceil(final_y))"
      ],
      "metadata": {
        "id": "61kXdbb3wncM"
      },
      "execution_count": 56,
      "outputs": []
    },
    {
      "cell_type": "code",
      "source": [
        "#maintain aspect ratio\n",
        "def magic_resize_template_json(creative_json, new_h, new_w):\n",
        "    old_w = creative_json.get(\"width\")\n",
        "    old_h = creative_json.get(\"height\")\n",
        "    old_aspect = old_w / old_h\n",
        "    old_area = old_w * old_h\n",
        "\n",
        "    new_template = deepcopy(creative_json)\n",
        "    new_template[\"width\"] = new_w\n",
        "    new_template[\"height\"] = new_h\n",
        "    new_aspect = new_w / new_h\n",
        "    new_area = new_w * new_h\n",
        "    pages = new_template.get(\"pages\", [])\n",
        "    for page_index in range(0, len(pages)):\n",
        "        childrens = new_template.get(\"pages\")[page_index].get(\"children\")\n",
        "        for child in childrens:\n",
        "            if child[\"type\"] == \"svg\":\n",
        "\n",
        "                    '''if child_area <= 0.2 * old_area:\n",
        "                        child[\"old_x\"] = child[\"x\"]\n",
        "                        child[\"old_y\"] = child[\"y\"]\n",
        "                        child[\"old_width\"] = child[\"width\"]\n",
        "                        child[\"old_height\"] = child[\"height\"]\n",
        "                        child[\"x\"] = (new_w/2) - (child[\"width\"]/2) - (((old_w/2) - (child[\"old_x\"] + (child[\"old_width\"]/2)))*new_w/old_w)\n",
        "                        child[\"y\"] = (new_h/2) - (child[\"height\"]/2) - (((old_h/2) - (child[\"old_y\"] + (child[\"old_height\"]/2)))*new_h/old_h)\n",
        "                    '''\n",
        "\n",
        "                    child[\"old_x\"] = child[\"x\"]\n",
        "                    child[\"old_y\"] = child[\"y\"]\n",
        "                    child[\"old_width\"] = child[\"width\"]\n",
        "                    child[\"old_height\"] = child[\"height\"]\n",
        "                    child[\"width\"] = child[\"width\"] * new_w / old_w\n",
        "                    child[\"height\"] = child[\"height\"] * new_h / old_h\n",
        "                    child[\"x\"] = (new_w/2) - (child[\"width\"]/2) - (((old_w/2) - (child[\"old_x\"] + (child[\"old_width\"]/2)))*new_w/old_w)\n",
        "                    child[\"y\"] = (new_h/2) - (child[\"height\"]/2) - (((old_h/2) - (child[\"old_y\"] + (child[\"old_height\"]/2)))*new_h/old_h)\n",
        "                    #rotate the image back to original angle\n",
        "\n",
        "            elif child[\"type\"] == \"image\":\n",
        "                if child[\"name\"] == \"logo\":\n",
        "                  if child[\"rotation\"] != 0:\n",
        "                      child[\"x\"],child[\"y\"],child[\"width\"],child[\"height\"]=get_outer_bbox(child)\n",
        "                  else:\n",
        "                    left = 0\n",
        "                    right = old_w\n",
        "                    top = 0\n",
        "                    bottom = old_h\n",
        "                    child[\"old_x\"] = child[\"x\"]\n",
        "                    child[\"old_y\"] = child[\"y\"]\n",
        "                    child[\"old_width\"] = child[\"width\"]\n",
        "                    child[\"old_height\"] = child[\"height\"]\n",
        "                    if (abs(child[\"old_x\"])+child[\"width\"]) < right-2 and (abs(child[\"old_y\"]) + child[\"height\"]) < bottom-2 and child[\"old_y\"] > top+2 and child[\"old_x\"] > left+2:\n",
        "                        child[\"width1\"] = child[\"width\"] * new_w / old_w\n",
        "                        child[\"height1\"] = child[\"width1\"] * child[\"height\"]/child[\"width\"]\n",
        "                        child[\"height2\"] = child[\"height\"] * new_h / old_h\n",
        "                        child[\"width2\"] = child[\"height2\"] * child[\"width\"]/child[\"height\"]\n",
        "                        a1logo = child[\"width1\"]*child[\"height1\"]\n",
        "                        a2logo = child[\"width2\"]*child[\"height2\"]\n",
        "                        if a1logo < a2logo:\n",
        "                          child[\"width\"] = child[\"width1\"]\n",
        "                          child[\"height\"] = child[\"height1\"]\n",
        "\n",
        "                        else:\n",
        "                          child[\"width\"] = child[\"width2\"]\n",
        "                          child[\"height\"] = child[\"height2\"]\n",
        "\n",
        "                    elif abs(child[\"old_x\"])+child[\"width\"] >= right-2 and (abs(child[\"old_y\"]) + child[\"height\"]) >= bottom-2 and child[\"old_y\"] <= top+2 and child[\"old_x\"] <= left+2:\n",
        "                      child[\"height\"] = new_h + abs(child[\"y\"]) + child[\"height\"] - bottom\n",
        "                      child[\"width\"] = new_w + abs(child[\"x\"]) + child[\"width\"] - right\n",
        "\n",
        "                    else:\n",
        "                      child[\"width\"] = child[\"width\"] * new_w / old_w\n",
        "                      child[\"height\"] = child[\"height\"] * new_h / old_h\n",
        "                    child[\"x\"] = (new_w/2) - (child[\"width\"]/2) - (((old_w/2) - (child[\"old_x\"] + (child[\"old_width\"]/2)))*new_w/old_w)\n",
        "                    child[\"y\"] = (new_h/2) - (child[\"height\"]/2) - (((old_h/2) - (child[\"old_y\"] + (child[\"old_height\"]/2)))*new_h/old_h)\n",
        "                else:\n",
        "                      rad = np.deg2rad(child['rotation'])\n",
        "                      b = np.abs(child['width']*np.cos(rad))\n",
        "                      a = np.abs(child['height'] * np.sin(rad))\n",
        "                      f = np.abs(child['height']*np.cos(rad))\n",
        "                      g = np.abs(child['width'] * np.sin(rad))\n",
        "\n",
        "                      child['x'],child['y'],child['width'],child['height'] =  get_outer_bbox(child)\n",
        "                      print(\"child after rotation\",child['x'],child['y'],child['width'],child['height'],child['rotation'])\n",
        "                      child[\"old_x\"] = child[\"x\"]\n",
        "                      child[\"old_y\"] = child[\"y\"]\n",
        "                      child[\"old_width\"] = child[\"width\"]\n",
        "                      child[\"old_height\"] = child[\"height\"]\n",
        "                      child[\"width1\"] = child[\"width\"] * new_w / old_w\n",
        "                      child[\"height1\"] = child[\"width1\"] * child[\"height\"]/child[\"width\"]\n",
        "                      child[\"height2\"] = child[\"height\"] * new_h / old_h\n",
        "                      child[\"width2\"] = child[\"height2\"] * child[\"width\"]/child[\"height\"]\n",
        "                      a1svg = child[\"width1\"]*child[\"height1\"]\n",
        "                      a2svg = child[\"width2\"]*child[\"height2\"]\n",
        "\n",
        "                      if a1svg < a2svg:\n",
        "                        child[\"width\"] = child[\"width1\"]\n",
        "                        child[\"height\"] = child[\"height1\"]\n",
        "                        #print(\"a1svg :\",a1svg)\n",
        "                      else:\n",
        "                        child[\"width\"] = child[\"width2\"]\n",
        "                        child[\"height\"] = child[\"height2\"]\n",
        "                      child[\"x\"] = (new_w/2) - (child[\"width\"]/2) - (((old_w/2) - (child[\"old_x\"] + (child[\"old_width\"]/2)))*new_w/old_w)\n",
        "                      child[\"y\"] = (new_h/2) - (child[\"height\"]/2) - (((old_h/2) - (child[\"old_y\"] + (child[\"old_height\"]/2)))*new_h/old_h)\n",
        "\n",
        "\n",
        "                      if child['rotation']>0 and child['rotation']<90:\n",
        "                        c = a/b\n",
        "                        d = child['width']*c/(1+c)\n",
        "                        child['x'] = child['x'] + d\n",
        "                        child['height'] = np.abs(d /np.sin(rad))\n",
        "                        child['width'] = np.abs((child['width'] - d)/np.cos(rad))\n",
        "\n",
        "                      elif child['rotation'] == 90:\n",
        "                        e  = child['width']\n",
        "                        child[\"x\"] = child[\"x\"] + child['width']\n",
        "                        child['width'] = child['height']\n",
        "                        child['height'] = e\n",
        "\n",
        "                      elif child['rotation']>90 and child['rotation']<180:\n",
        "                        rad = 180 - rad\n",
        "                        child[\"x\"] = child[\"x\"] + child['width']\n",
        "                        h = f/g\n",
        "                        i = child['height']*h/(1+h)\n",
        "                        child[\"y\"] = child[\"y\"] + i\n",
        "                        child['height'] = np.abs(i /np.cos(rad))\n",
        "                        child['width'] = np.abs((child['height'] - i)/np.sin(rad))\n",
        "\n",
        "\n",
        "\n",
        "\n",
        "\n",
        "\n",
        "\n",
        "\n",
        "\n",
        "\n",
        "\n",
        "\n",
        "\n",
        "\n",
        "\n",
        "\n",
        "\n",
        "            elif child[\"type\"] == \"text\":\n",
        "                child[\"old_x\"] = child[\"x\"]\n",
        "                child[\"old_y\"] = child[\"y\"]\n",
        "                child[\"old_width\"] = child[\"width\"]\n",
        "                child[\"old_height\"] = child[\"height\"]\n",
        "                child[\"width\"] = child[\"width\"] * new_w / old_w\n",
        "                child[\"height\"] = child[\"height\"] * new_h / old_h\n",
        "                child[\"x\"] = (new_w/2) - (child[\"width\"]/2) - (((old_w/2) - (child[\"old_x\"] + (child[\"old_width\"]/2)))*new_w/old_w)\n",
        "                child[\"y\"] = (new_h/2) - (child[\"height\"]/2) - (((old_h/2) - (child[\"old_y\"] + (child[\"old_height\"]/2)))*new_h/old_h)\n",
        "\n",
        "                max_fsz = int(min(150, child.get(\"fontSize\", 30) * 1.5))\n",
        "                try:\n",
        "                    new_f, text_h = find_correct_fontsize_v3(child[\"width\"], child[\"height\"],\n",
        "                                                             child[\"text\"],\n",
        "                                                             child[\"fontFamily\"],\n",
        "                                                             child.get(\"lineHeight\", 1.0),\n",
        "                                                             child.get(\"letterSpacing\", 0),\n",
        "                                                             max_font_sz=max(max_fsz, child[\"fontSize\"]))\n",
        "                    child[\"fontSize\"] = new_f\n",
        "                except Exception:\n",
        "                    pass\n",
        "            else:\n",
        "                child[\"old_x\"] = child[\"x\"]\n",
        "                child[\"old_y\"] = child[\"y\"]\n",
        "                child[\"old_width\"] = child[\"width\"]\n",
        "                child[\"old_height\"] = child[\"height\"]\n",
        "                child[\"width\"] = child[\"width\"] * new_w / old_w\n",
        "                child[\"height\"] = child[\"height\"] * new_h / old_h\n",
        "                child[\"x\"] = (new_w/2) - (child[\"width\"]/2) - (((old_w/2) - (child[\"old_x\"] + (child[\"old_width\"]/2)))*new_w/old_w)\n",
        "                child[\"y\"] = (new_h/2) - (child[\"height\"]/2) - (((old_h/2) - (child[\"old_y\"] + (child[\"old_height\"]/2)))*new_h/old_h)\n",
        "    return new_template"
      ],
      "metadata": {
        "id": "QjFcDTq2wIih"
      },
      "execution_count": 57,
      "outputs": []
    },
    {
      "cell_type": "code",
      "source": [
        "new_template = magic_resize_template_json(creative_json, 1080, 1920)"
      ],
      "metadata": {
        "colab": {
          "base_uri": "https://localhost:8080/"
        },
        "id": "0EkexjEBwjWS",
        "outputId": "1825616a-9142-4675-e75f-55769f083b41"
      },
      "execution_count": 58,
      "outputs": [
        {
          "output_type": "stream",
          "name": "stdout",
          "text": [
            "child after rotation 198.00000000000006 296.0 675.0050498877171 643.9065488951021 0\n",
            "child after rotation 198.14875051443556 296.5100658804048 675.0050498877184 643.9065488951021 140.0386540629902\n"
          ]
        }
      ]
    },
    {
      "cell_type": "code",
      "source": [
        "print(new_template)"
      ],
      "metadata": {
        "colab": {
          "base_uri": "https://localhost:8080/"
        },
        "id": "QMoflr4nwk5c",
        "outputId": "5e0d767d-f637-4ab6-e28d-51271f4d7eec"
      },
      "execution_count": 59,
      "outputs": [
        {
          "output_type": "stream",
          "name": "stdout",
          "text": [
            "{'width': 1920, 'height': 1080, 'fonts': [], 'pages': [{'id': 'WIw0uPslYy', 'children': [{'id': 'DHR1fOEx7F', 'type': 'svg', 'name': '', 'opacity': 1, 'visible': True, 'selectable': True, 'removable': True, 'alwaysOnTop': False, 'showInExport': True, 'x': -57.06391345530629, 'y': 0.0, 'width': 2034.1278269106142, 'height': 535.7090977591724, 'rotation': 0, 'animations': [], 'blurEnabled': False, 'blurRadius': 10, 'brightnessEnabled': False, 'brightness': 0, 'sepiaEnabled': False, 'grayscaleEnabled': False, 'shadowEnabled': False, 'shadowBlur': 5, 'shadowOffsetX': 0, 'shadowOffsetY': 0, 'shadowColor': 'black', 'shadowOpacity': 1, 'draggable': True, 'resizable': True, 'contentEditable': True, 'styleEditable': True, 'src': 'data:image/svg+xml;base64,PHN2ZyB4bWxucz0iaHR0cDovL3d3dy53My5vcmcvMjAwMC9zdmciIHZpZXdCb3g9IjAgMCA2MCA2MCI+PHJlY3QgeD0iMCIgeT0iMCIgd2lkdGg9IjYwIiBoZWlnaHQ9IjYwIiBmaWxsPSJyZ2IoMCwgMTYxLCAyNTUpIiAvPjwvc3ZnPg==', 'maskSrc': '', 'cropX': 0, 'cropY': 0, 'cropWidth': 1, 'cropHeight': 1, 'keepRatio': False, 'flipX': False, 'flipY': False, 'borderColor': 'black', 'borderSize': 0, 'cornerRadius': 0, 'colorsReplace': {'rgb(0, 161, 255)': 'rgba(245,190,102,1)'}, 'old_x': -32.09845131860976, 'old_y': 3.1833964978659067e-15, 'old_width': 1144.1969026372205, 'old_height': 535.7090977591724}, {'id': 'yzp5iCe7P0', 'type': 'svg', 'name': '', 'opacity': 1, 'visible': True, 'selectable': True, 'removable': True, 'alwaysOnTop': False, 'showInExport': True, 'x': 164.6365471487149, 'y': 440.0487804878049, 'width': 1367.1544715447108, 'height': 534.5853658536579, 'rotation': 0, 'animations': [], 'blurEnabled': False, 'blurRadius': 10, 'brightnessEnabled': False, 'brightness': 0, 'sepiaEnabled': False, 'grayscaleEnabled': False, 'shadowEnabled': False, 'shadowBlur': 5, 'shadowOffsetX': 0, 'shadowOffsetY': 0, 'shadowColor': 'black', 'shadowOpacity': 1, 'draggable': True, 'resizable': True, 'contentEditable': True, 'styleEditable': True, 'src': 'data:image/svg+xml;base64,PHN2ZyB4bWxucz0iaHR0cDovL3d3dy53My5vcmcvMjAwMC9zdmciIHZpZXdCb3g9IjAgMCA2MCA2MCI+PHJlY3QgeD0iMCIgeT0iMCIgd2lkdGg9IjYwIiBoZWlnaHQ9IjYwIiBmaWxsPSJyZ2IoMCwgMTYxLCAyNTUpIiAvPjwvc3ZnPg==', 'maskSrc': '', 'cropX': 0, 'cropY': 0, 'cropWidth': 1, 'cropHeight': 1, 'keepRatio': False, 'flipX': False, 'flipY': False, 'borderColor': 'black', 'borderSize': 0, 'cornerRadius': 0, 'colorsReplace': {'rgb(0, 161, 255)': 'rgba(216,155,59,1)'}, 'old_x': 92.60805777115212, 'old_y': 440.04878048780495, 'old_width': 769.0243902438998, 'old_height': 534.5853658536579}, {'id': 'wPViWYEyQz', 'type': 'image', 'name': '', 'opacity': 1, 'visible': True, 'selectable': True, 'removable': True, 'alwaysOnTop': False, 'showInExport': True, 'x': 614.5019638452234, 'y': 296.0, 'width': 675.0050498877171, 'height': 643.9065488951021, 'rotation': 0, 'animations': [], 'blurEnabled': False, 'blurRadius': 10, 'brightnessEnabled': False, 'brightness': 0, 'sepiaEnabled': False, 'grayscaleEnabled': False, 'shadowEnabled': False, 'shadowBlur': 5, 'shadowOffsetX': 0, 'shadowOffsetY': 0, 'shadowColor': 'black', 'shadowOpacity': 1, 'draggable': True, 'resizable': True, 'contentEditable': True, 'styleEditable': True, 'src': 'https://images.unsplash.com/photo-1600184430626-1dd6087315d8?crop=entropy&cs=tinysrgb&fit=max&fm=jpg&ixid=MnwxMTY5OTZ8MHwxfHNlYXJjaHw3fHx3YWZmbGV8ZW58MHx8fHwxNjM1NTkwMjc3&ixlib=rb-1.2.1&q=80&w=1080', 'cropX': 0, 'cropY': 0.00038834951456290234, 'cropWidth': 0.9844730328980278, 'cropHeight': 0.6564700485787871, 'cornerRadius': 0, 'flipX': False, 'flipY': False, 'clipSrc': '', 'borderColor': 'black', 'borderSize': 0, 'keepRatio': False, 'old_x': 198.00000000000006, 'old_y': 296.0, 'old_width': 675.0050498877171, 'old_height': 643.9065488951021, 'width1': 1200.0089775781637, 'height1': 1144.7227535912925, 'height2': 643.9065488951021, 'width2': 675.0050498877171}, {'id': '4MkzwRMNqV', 'type': 'text', 'name': '', 'opacity': 1, 'visible': True, 'selectable': True, 'removable': True, 'alwaysOnTop': False, 'showInExport': True, 'x': 69.33333333333438, 'y': 164.47893912348854, 'width': 1781.3333333333333, 'height': 81.0, 'rotation': 0, 'animations': [], 'blurEnabled': False, 'blurRadius': 10, 'brightnessEnabled': False, 'brightness': 0, 'sepiaEnabled': False, 'grayscaleEnabled': False, 'shadowEnabled': False, 'shadowBlur': 5, 'shadowOffsetX': 0, 'shadowOffsetY': 0, 'shadowColor': 'black', 'shadowOpacity': 1, 'draggable': True, 'resizable': True, 'contentEditable': True, 'styleEditable': True, 'text': \"Waiting for a waffle o'clock\", 'placeholder': '', 'fontSize': 66, 'fontFamily': 'Libre Baskerville', 'fontStyle': 'normal', 'fontWeight': 'normal', 'textDecoration': '', 'fill': 'rgba(189,130,36,1)', 'align': 'center', 'verticalAlign': 'top', 'strokeWidth': 0, 'stroke': 'black', 'lineHeight': 1.2, 'letterSpacing': 0, 'backgroundEnabled': False, 'backgroundColor': '#7ED321', 'backgroundOpacity': 1, 'backgroundCornerRadius': 0.5, 'backgroundPadding': 0.5, 'old_x': 39.00000000000057, 'old_y': 164.47893912348854, 'old_width': 1002, 'old_height': 81}, {'id': 'BAgdNcgp9x', 'type': 'svg', 'name': '', 'opacity': 1, 'visible': True, 'selectable': True, 'removable': True, 'alwaysOnTop': False, 'showInExport': True, 'x': 1653.6874907982533, 'y': 752.121951219512, 'width': 227.55555555555554, 'height': 128.0, 'rotation': 0, 'animations': [], 'blurEnabled': False, 'blurRadius': 10, 'brightnessEnabled': False, 'brightness': 0, 'sepiaEnabled': False, 'grayscaleEnabled': False, 'shadowEnabled': False, 'shadowBlur': 5, 'shadowOffsetX': 0, 'shadowOffsetY': 0, 'shadowColor': 'black', 'shadowOpacity': 1, 'draggable': True, 'resizable': True, 'contentEditable': True, 'styleEditable': True, 'src': 'data:image/svg+xml;base64,PHN2ZyB4bWxucz0iaHR0cDovL3d3dy53My5vcmcvMjAwMC9zdmciIHdpZHRoPSIyNCIgaGVpZ2h0PSIyNCIgdmlld0JveD0iMCAwIDI0IDI0Ij48cGF0aCBmaWxsPSJub25lIiBmaWxsLXJ1bGU9ImV2ZW5vZGQiIHN0cm9rZT0iIzIwMEUzMiIgc3Ryb2tlLWxpbmVjYXA9InJvdW5kIiBzdHJva2UtbGluZWpvaW49InJvdW5kIiBzdHJva2Utd2lkdGg9IjEuNSIgZD0iTTEwLjIxMzUzNTQsMC40NDEzMjk4OTQgTDEyLjUzMDE5MDcsNS4wOTY2ODg3MSBDMTIuNjQzNzcwOSw1LjMzMDY3MTYgMTIuODY3MzIyOSw1LjQ5NDIzNzE1IDEzLjEyNzQ1MzQsNS41MzM2ODU5OSBMMTguMzEyNzc5NSw2LjI4MjgyNDE5IEMxOC41MjMyMDEzLDYuMzExNTEzNTggMTguNzEzMjcxLDYuNDIxODY1OSAxOC44NDA3MjY1LDYuNTg5MzQ0MzEgQzE4Ljk2ODE4MjEsNi43NTY4MjI3MiAxOS4wMjI0NTg0LDYuOTY3NTQ0NCAxOC45OTE0ODcxLDcuMTc0NjU1MzggQzE4Ljk2NTQzMzYsNy4zNDQ5MDQwMSAxOC44ODI2NjA1LDcuNTAxNzc2NjIgMTguNzU2MjAxOCw3LjYyMDU3MDk4IEwxNS4wMDA2ODY0LDExLjI1OTI0MjIgQzE0LjgxMDg3NjUsMTEuNDM4NTY1NyAxNC43MjU3ODAzLDExLjcwMDIxODcgMTQuNzc0NDUwNSwxMS45NTQ4NzA2IEwxNS42NzkzOTQsMTcuMDgyODk5OSBDMTUuNzQ0ODc3NCwxNy41MDU0MzU1IDE1LjQ1NTIxNDcsMTcuOTAxOTE1NCAxNS4wMjc4MzQ3LDE3Ljk3NDczMTEgQzE0Ljg1MTYwODksMTguMDAxOTM2IDE0LjY3MTE2NDIsMTcuOTczODU3NiAxNC41MTIwMTY5LDE3Ljg5NDQ2NjMgTDkuODg3NzU1NzUsMTUuNDc3NjAzOCBDOS42NTY3NTcyMSwxNS4zNTIyNDg1IDkuMzc2NzAwNjQsMTUuMzUyMjQ4NSA5LjE0NTcwMjEsMTUuNDc3NjAzOCBMNC40OTQyOTI2NiwxNy45MTIzMDI5IEM0LjEwNDA0NDIsMTguMTA5NjUyMSAzLjYyNTMwNzU3LDE3Ljk2Mjk1OCAzLjQxNzQwOTkzLDE3LjU4MjMyNTQgQzMuMzM2MzUxODQsMTcuNDI4ODUyMyAzLjMwNzc4NDM4LDE3LjI1MzY3NDggMy4zMzU5NjUwMiwxNy4wODI4OTk5IEw0LjI0MDkwODQ5LDExLjk1NDg3MDYgQzQuMjg0Njc4NjUsMTEuNzAwNTQwNSA0LjIwMDMwNTYzLDExLjQ0MTExMSA0LjAxNDY3MjYyLDExLjI1OTI0MjIgTDAuMjMyMDA4OTEsNy42MjA1NzA5OCBDLTAuMDc3MzM2MzAzNCw3LjMxMTUwMzEyIC0wLjA3NzMzNjMwMzQsNi44MTQ4NDk4NSAwLjIzMjAwODkxLDYuNTA1NzgxOTkgQzAuMzU4MjU5MTQ4LDYuMzkwNTgzNCAwLjUxNTIxNjY0OCw2LjMxMzI0MTc3IDAuNjg0NDgwNjQ2LDYuMjgyODI0MTkgTDUuODY5ODA2NzMsNS41MzM2ODU5OSBDNi4xMjg3MDgzNyw1LjQ5MTM2MTQxIDYuMzUxMDUxNTEsNS4zMjg2ODAzMiA2LjQ2NzA2OTQzLDUuMDk2Njg4NzEgTDguNzgzNzI0NzEsMC40NDEzMjk4OTQgQzguODc1MjYyMTMsMC4yNTI1Njg2NCA5LjA0MDI2OTEyLDAuMTA4MjM2NjI4IDkuMjQxMzE3OTQsMC4wNDEwNzE5ODA4IEM5LjQ0MjM2Njc3LC0wLjAyNjA5MjY2NjcgOS42NjI0MTc4MywtMC4wMTAzOTc1MDE5IDkuODUxNTU4MDEsMC4wODQ1OTc0MTc5IEMxMC4wMDc2MDgzLDAuMTYyNTkwNjkgMTAuMTM0Mzk1NCwwLjI4NzU0MDcyNCAxMC4yMTM1MzU0LDAuNDQxMzI5ODk0IFoiIHRyYW5zZm9ybT0idHJhbnNsYXRlKDIuNSAzKSIvPjwvc3ZnPg==', 'maskSrc': '', 'cropX': 0, 'cropY': 0, 'cropWidth': 1, 'cropHeight': 1, 'keepRatio': True, 'flipX': False, 'flipY': False, 'borderColor': 'black', 'borderSize': 0, 'cornerRadius': 0, 'colorsReplace': {'#200E32': 'rgba(255,255,255,1)'}, 'old_x': 930.1992135740174, 'old_y': 752.121951219512, 'old_width': 128, 'old_height': 128}, {'id': 'mIYW6wl4XS', 'type': 'svg', 'name': '', 'opacity': 1, 'visible': True, 'selectable': True, 'removable': True, 'alwaysOnTop': False, 'showInExport': True, 'x': 77.73051886400253, 'y': 391.16413957765434, 'width': 173.8120565694248, 'height': 97.76928182030143, 'rotation': 0, 'animations': [], 'blurEnabled': False, 'blurRadius': 10, 'brightnessEnabled': False, 'brightness': 0, 'sepiaEnabled': False, 'grayscaleEnabled': False, 'shadowEnabled': False, 'shadowBlur': 5, 'shadowOffsetX': 0, 'shadowOffsetY': 0, 'shadowColor': 'black', 'shadowOpacity': 1, 'draggable': True, 'resizable': True, 'contentEditable': True, 'styleEditable': True, 'src': 'data:image/svg+xml;base64,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', 'maskSrc': '', 'cropX': 0, 'cropY': 0, 'cropWidth': 1, 'cropHeight': 1, 'keepRatio': True, 'flipX': False, 'flipY': False, 'borderColor': 'black', 'borderSize': 0, 'cornerRadius': 0, 'colorsReplace': {'#200E32': 'rgba(255,255,255,1)'}, 'old_x': 43.72341686100141, 'old_y': 391.16413957765434, 'old_width': 97.76928182030144, 'old_height': 97.76928182030143}, {'id': 'TG5vYuIJGo', 'type': 'image', 'name': '', 'opacity': 1, 'visible': True, 'selectable': True, 'removable': True, 'alwaysOnTop': False, 'showInExport': True, 'x': 1289.7714590919386, 'y': 559.3557945831599, 'width': 124.68412010884268, 'height': 342.92668065591175, 'rotation': 140.0386540629902, 'animations': [], 'blurEnabled': False, 'blurRadius': 10, 'brightnessEnabled': False, 'brightness': 0, 'sepiaEnabled': False, 'grayscaleEnabled': False, 'shadowEnabled': False, 'shadowBlur': 5, 'shadowOffsetX': 0, 'shadowOffsetY': 0, 'shadowColor': 'black', 'shadowOpacity': 1, 'draggable': True, 'resizable': True, 'contentEditable': True, 'styleEditable': True, 'src': 'https://images.unsplash.com/photo-1703701008461-ce64767019d3?crop=entropy&cs=tinysrgb&fit=max&fm=jpg&ixid=M3wxMTY5OTZ8MHwxfGFsbHw3fHx8fHx8Mnx8MTcwNDUzMTY0OXw&ixlib=rb-4.0.3&q=80&w=1080', 'cropX': 0, 'cropY': 0, 'cropWidth': 1, 'cropHeight': 0.8669944536546985, 'cornerRadius': 0, 'flipX': False, 'flipY': False, 'clipSrc': '', 'borderColor': 'black', 'borderSize': 0, 'keepRatio': False, 'old_x': 198.14875051443556, 'old_y': 296.5100658804048, 'old_width': 675.0050498877184, 'old_height': 643.9065488951021, 'width1': 1200.008977578166, 'height1': 1144.7227535912925, 'height2': 643.9065488951021, 'width2': 675.0050498877184}], 'width': 'auto', 'height': 'auto', 'background': 'rgba(245,234,187,1)', 'bleed': 0, 'duration': 5000}], 'unit': 'px', 'dpi': 72}\n"
          ]
        }
      ]
    },
    {
      "cell_type": "code",
      "source": [
        "def save_to_json_file(data, file_path):\n",
        "    with open(file_path, 'w') as file:\n",
        "        json.dump(data, file, indent=4)\n",
        "save_to_json_file(new_template, '/content/polotno.json')"
      ],
      "metadata": {
        "id": "ep-6x9zpwmPL"
      },
      "execution_count": 60,
      "outputs": []
    },
    {
      "cell_type": "code",
      "source": [
        "from google.colab import files\n",
        "files.download('/content/polotno.json')"
      ],
      "metadata": {
        "colab": {
          "base_uri": "https://localhost:8080/",
          "height": 17
        },
        "id": "64qWwekQ3pcV",
        "outputId": "9a1da758-fdcc-4787-b1d1-7111382b4848"
      },
      "execution_count": 61,
      "outputs": [
        {
          "output_type": "display_data",
          "data": {
            "text/plain": [
              "<IPython.core.display.Javascript object>"
            ],
            "application/javascript": [
              "\n",
              "    async function download(id, filename, size) {\n",
              "      if (!google.colab.kernel.accessAllowed) {\n",
              "        return;\n",
              "      }\n",
              "      const div = document.createElement('div');\n",
              "      const label = document.createElement('label');\n",
              "      label.textContent = `Downloading \"${filename}\": `;\n",
              "      div.appendChild(label);\n",
              "      const progress = document.createElement('progress');\n",
              "      progress.max = size;\n",
              "      div.appendChild(progress);\n",
              "      document.body.appendChild(div);\n",
              "\n",
              "      const buffers = [];\n",
              "      let downloaded = 0;\n",
              "\n",
              "      const channel = await google.colab.kernel.comms.open(id);\n",
              "      // Send a message to notify the kernel that we're ready.\n",
              "      channel.send({})\n",
              "\n",
              "      for await (const message of channel.messages) {\n",
              "        // Send a message to notify the kernel that we're ready.\n",
              "        channel.send({})\n",
              "        if (message.buffers) {\n",
              "          for (const buffer of message.buffers) {\n",
              "            buffers.push(buffer);\n",
              "            downloaded += buffer.byteLength;\n",
              "            progress.value = downloaded;\n",
              "          }\n",
              "        }\n",
              "      }\n",
              "      const blob = new Blob(buffers, {type: 'application/binary'});\n",
              "      const a = document.createElement('a');\n",
              "      a.href = window.URL.createObjectURL(blob);\n",
              "      a.download = filename;\n",
              "      div.appendChild(a);\n",
              "      a.click();\n",
              "      div.remove();\n",
              "    }\n",
              "  "
            ]
          },
          "metadata": {}
        },
        {
          "output_type": "display_data",
          "data": {
            "text/plain": [
              "<IPython.core.display.Javascript object>"
            ],
            "application/javascript": [
              "download(\"download_b4ca8447-b1d4-47d3-841b-ed9fa67730bd\", \"polotno.json\", 20475)"
            ]
          },
          "metadata": {}
        }
      ]
    },
    {
      "cell_type": "code",
      "source": [],
      "metadata": {
        "id": "MbEyBnCK36Ag"
      },
      "execution_count": 61,
      "outputs": []
    }
  ]
}